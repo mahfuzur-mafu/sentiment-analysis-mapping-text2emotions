{
 "cells": [
  {
   "cell_type": "code",
   "execution_count": 8,
   "metadata": {},
   "outputs": [],
   "source": [
    "from textblob import TextBlob\n",
    "\n"
   ]
  },
  {
   "cell_type": "code",
   "execution_count": 24,
   "metadata": {},
   "outputs": [],
   "source": [
    "speech = \"i am a good boy\""
   ]
  },
  {
   "cell_type": "code",
   "execution_count": 25,
   "metadata": {},
   "outputs": [],
   "source": [
    "blob = TextBlob(speech)"
   ]
  },
  {
   "cell_type": "code",
   "execution_count": 26,
   "metadata": {},
   "outputs": [
    {
     "data": {
      "text/plain": [
       "0.7"
      ]
     },
     "execution_count": 26,
     "metadata": {},
     "output_type": "execute_result"
    }
   ],
   "source": [
    "blob.sentiment.polarity"
   ]
  },
  {
   "cell_type": "code",
   "execution_count": null,
   "metadata": {},
   "outputs": [],
   "source": [
    "from textblob import TextBlob\n",
    "import pandas as pd\n",
    "\n",
    "# Sample text\n",
    "speech = \"I am a good boy\"\n",
    "blob = TextBlob(speech)\n",
    "\n",
    "# 1. Basic sentiment\n",
    "print(\"🔹 Sentence:\", speech)\n",
    "print(\"🔹 Polarity (sentiment score):\", blob.sentiment.polarity)\n",
    "print(\"🔹 Subjectivity (0=objective, 1=subjective):\", blob.sentiment.subjectivity)\n",
    "\n",
    "# 2. Tokenize words\n",
    "print(\"\\n📝 Words in sentence:\", blob.words)\n",
    "\n",
    "# 3. Part-of-Speech tagging\n",
    "print(\"\\n📌 POS Tags:\", blob.tags)\n",
    "\n",
    "# 4. Noun phrase extraction\n",
    "print(\"\\n📌 Noun Phrases:\", blob.noun_phrases)\n",
    "\n",
    "# 5. Multiple sentences example\n",
    "texts = [\n",
    "    \"I love this product! It is amazing.\",\n",
    "    \"This is the worst movie I have ever seen.\",\n",
    "    \"The food was okay, not too bad, not too great.\"\n",
    "]\n",
    "\n",
    "results = []\n",
    "for t in texts:\n",
    "    tb = TextBlob(t)\n",
    "    results.append({\n",
    "        \"Sentence\": t,\n",
    "        \"Polarity\": tb.sentiment.polarity,\n",
    "        \"Subjectivity\": tb.sentiment.subjectivity\n",
    "    })\n",
    "\n",
    "df = pd.DataFrame(results)\n",
    "print(\"\\n📊 Sentiment Analysis Table:\")\n",
    "display(df)\n"
   ]
  }
 ],
 "metadata": {
  "kernelspec": {
   "display_name": "Python 3",
   "language": "python",
   "name": "python3"
  },
  "language_info": {
   "codemirror_mode": {
    "name": "ipython",
    "version": 3
   },
   "file_extension": ".py",
   "mimetype": "text/x-python",
   "name": "python",
   "nbconvert_exporter": "python",
   "pygments_lexer": "ipython3",
   "version": "3.9.6"
  }
 },
 "nbformat": 4,
 "nbformat_minor": 2
}
